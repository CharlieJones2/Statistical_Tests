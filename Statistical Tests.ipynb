{
 "cells": [
  {
   "cell_type": "markdown",
   "id": "8f0b89bd",
   "metadata": {},
   "source": [
    "# One Sample T-Test"
   ]
  },
  {
   "cell_type": "markdown",
   "id": "cd1cae1a",
   "metadata": {},
   "source": [
    "- Comparing a **sample statistic** to a **hypothesised population value**\n",
    "- For a **quantitative** variable"
   ]
  },
  {
   "cell_type": "code",
   "execution_count": null,
   "id": "23708fb8",
   "metadata": {},
   "outputs": [],
   "source": [
    "from scipy.stats import ttest_1samp\n",
    "\n",
    "sample_statistic = x\n",
    "sample_values = []\n",
    "\n",
    "tstat, pval = ttest_1samp(sample_values, sample_statistic)"
   ]
  },
  {
   "cell_type": "markdown",
   "id": "89ab7c32",
   "metadata": {},
   "source": [
    "# Binomial Test"
   ]
  },
  {
   "cell_type": "markdown",
   "id": "2e255dd0",
   "metadata": {},
   "source": [
    "- Comparing a **sample statistic** to a **hypothesised population value**\n",
    "- For a **categorical** variable"
   ]
  },
  {
   "cell_type": "code",
   "execution_count": null,
   "id": "27f5b637",
   "metadata": {},
   "outputs": [],
   "source": [
    "from scipy.stats import binom_test\n",
    "\n",
    "pval = binom_test(successes, trials, probability)"
   ]
  },
  {
   "cell_type": "markdown",
   "id": "2b14d31d",
   "metadata": {},
   "source": [
    "# Two Sample T-Test"
   ]
  },
  {
   "cell_type": "markdown",
   "id": "a9dd21c2",
   "metadata": {},
   "source": [
    "- Testing an association between a **binary categorical variable** and a **quantitative variable**"
   ]
  },
  {
   "cell_type": "code",
   "execution_count": null,
   "id": "89288e71",
   "metadata": {},
   "outputs": [],
   "source": [
    "from scipy.stats import ttest_ind\n",
    "\n",
    "sample_1 = df.col_1\n",
    "sample_2 = df.col_2\n",
    "\n",
    "tstat, pval = ttest_ind(sample_1, sample_2)"
   ]
  },
  {
   "cell_type": "markdown",
   "id": "f1b20aef",
   "metadata": {},
   "source": [
    "# Anova with Tukey's Range Test"
   ]
  },
  {
   "cell_type": "markdown",
   "id": "d58f749b",
   "metadata": {},
   "source": [
    "- Testing an association between a **non-binary categorical variable** and a **quantitative variable**"
   ]
  },
  {
   "cell_type": "code",
   "execution_count": null,
   "id": "172cfd4b",
   "metadata": {},
   "outputs": [],
   "source": [
    "# ANOVA Test\n",
    "from scipy.stats import f_oneway\n",
    "fstat, pval = f_oneway(cat_1, cat_2, cat_3)\n",
    "\n",
    "# Tukey's Range Test\n",
    "from statsmodels.stats.multicomp import pairwise_tukeyhsd\n",
    "results = pairwise_tukeyhsd(df.col_1, df.col_2. significance_level)"
   ]
  },
  {
   "cell_type": "markdown",
   "id": "7e5a0138",
   "metadata": {},
   "source": [
    "# Chi-Square Test"
   ]
  },
  {
   "cell_type": "markdown",
   "id": "10abce88",
   "metadata": {},
   "source": [
    "- Testing an association between two categorical variables (binary or non-binary)"
   ]
  },
  {
   "cell_type": "code",
   "execution_count": null,
   "id": "9e784d8e",
   "metadata": {},
   "outputs": [],
   "source": [
    "import pandas as pd\n",
    "from scipy.stats import chi2_contingency\n",
    "\n",
    "# Create Contingency Table\n",
    "ab_contingency = pd.crosstab(a, b)\n",
    "\n",
    "# Run Chi-Square Test\n",
    "chi2, pval, dof, expected = chi2_contingency(ab_contingency)"
   ]
  }
 ],
 "metadata": {
  "kernelspec": {
   "display_name": "Python 3 (ipykernel)",
   "language": "python",
   "name": "python3"
  },
  "language_info": {
   "codemirror_mode": {
    "name": "ipython",
    "version": 3
   },
   "file_extension": ".py",
   "mimetype": "text/x-python",
   "name": "python",
   "nbconvert_exporter": "python",
   "pygments_lexer": "ipython3",
   "version": "3.9.13"
  }
 },
 "nbformat": 4,
 "nbformat_minor": 5
}
